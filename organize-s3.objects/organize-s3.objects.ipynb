{
 "cells": [
  {
   "cell_type": "code",
   "execution_count": 37,
   "metadata": {},
   "outputs": [],
   "source": [
    "import boto3\n",
    "from datetime import datetime"
   ]
  },
  {
   "cell_type": "code",
   "execution_count": 38,
   "metadata": {},
   "outputs": [],
   "source": [
    "today = datetime.today()"
   ]
  },
  {
   "cell_type": "code",
   "execution_count": 39,
   "metadata": {},
   "outputs": [
    {
     "data": {
      "text/plain": [
       "datetime.datetime(2023, 2, 22, 21, 10, 54, 231741)"
      ]
     },
     "execution_count": 39,
     "metadata": {},
     "output_type": "execute_result"
    }
   ],
   "source": [
    "today"
   ]
  },
  {
   "cell_type": "code",
   "execution_count": 40,
   "metadata": {},
   "outputs": [],
   "source": [
    "todays_date = today.strftime(\"%Y%m%d\")"
   ]
  },
  {
   "cell_type": "code",
   "execution_count": 41,
   "metadata": {},
   "outputs": [
    {
     "data": {
      "text/plain": [
       "'20230222'"
      ]
     },
     "execution_count": 41,
     "metadata": {},
     "output_type": "execute_result"
    }
   ],
   "source": [
    "todays_date"
   ]
  },
  {
   "cell_type": "code",
   "execution_count": 42,
   "metadata": {},
   "outputs": [],
   "source": [
    "s3_client = boto3.client('s3')"
   ]
  },
  {
   "cell_type": "code",
   "execution_count": 43,
   "metadata": {},
   "outputs": [],
   "source": [
    "bucket_name = \"mbella-organize-s3-objects\""
   ]
  },
  {
   "cell_type": "code",
   "execution_count": 44,
   "metadata": {},
   "outputs": [],
   "source": [
    "list_objects_response = s3_client.list_objects(Bucket=bucket_name)"
   ]
  },
  {
   "cell_type": "code",
   "execution_count": 45,
   "metadata": {},
   "outputs": [
    {
     "data": {
      "text/plain": [
       "{'ResponseMetadata': {'RequestId': 'ZRW1JGQT8B1GT53Y',\n",
       "  'HostId': 'YGXyPA9kkEZefjU/i/DEWUYJlrXN1UHSbajo4r3Uv7tNVLFsi/K9kkv81JToU4DmpbYxMgihwxw=',\n",
       "  'HTTPStatusCode': 200,\n",
       "  'HTTPHeaders': {'x-amz-id-2': 'YGXyPA9kkEZefjU/i/DEWUYJlrXN1UHSbajo4r3Uv7tNVLFsi/K9kkv81JToU4DmpbYxMgihwxw=',\n",
       "   'x-amz-request-id': 'ZRW1JGQT8B1GT53Y',\n",
       "   'date': 'Thu, 23 Feb 2023 02:10:53 GMT',\n",
       "   'x-amz-bucket-region': 'us-east-1',\n",
       "   'content-type': 'application/xml',\n",
       "   'transfer-encoding': 'chunked',\n",
       "   'server': 'AmazonS3'},\n",
       "  'RetryAttempts': 0},\n",
       " 'IsTruncated': False,\n",
       " 'Marker': '',\n",
       " 'Contents': [{'Key': '20230220/',\n",
       "   'LastModified': datetime.datetime(2023, 2, 23, 1, 41, 38, tzinfo=tzutc()),\n",
       "   'ETag': '\"d41d8cd98f00b204e9800998ecf8427e\"',\n",
       "   'Size': 0,\n",
       "   'StorageClass': 'STANDARD',\n",
       "   'Owner': {'DisplayName': 'ewambembella',\n",
       "    'ID': '62be3582297aadeb353b684380316d2fa10ee13bd5c777428ccddbc30b6ecc70'}},\n",
       "  {'Key': '20230220/Online Return Center bulb.pdf',\n",
       "   'LastModified': datetime.datetime(2023, 2, 23, 2, 6, 1, tzinfo=tzutc()),\n",
       "   'ETag': '\"60ce935cc62713561ef463ca7da79716\"',\n",
       "   'Size': 107839,\n",
       "   'StorageClass': 'STANDARD',\n",
       "   'Owner': {'DisplayName': 'ewambembella',\n",
       "    'ID': '62be3582297aadeb353b684380316d2fa10ee13bd5c777428ccddbc30b6ecc70'}},\n",
       "  {'Key': '20230220/Online Return Center ram.pdf',\n",
       "   'LastModified': datetime.datetime(2023, 2, 23, 2, 6, 1, tzinfo=tzutc()),\n",
       "   'ETag': '\"7244f2dc7fcb4ed71b957056e6ae66a0\"',\n",
       "   'Size': 108113,\n",
       "   'StorageClass': 'STANDARD',\n",
       "   'Owner': {'DisplayName': 'ewambembella',\n",
       "    'ID': '62be3582297aadeb353b684380316d2fa10ee13bd5c777428ccddbc30b6ecc70'}},\n",
       "  {'Key': '20230220/list of comands for docker aws.txt',\n",
       "   'LastModified': datetime.datetime(2023, 2, 23, 2, 6, 2, tzinfo=tzutc()),\n",
       "   'ETag': '\"331b998d612b9a0524b2cf367c87a457\"',\n",
       "   'Size': 1238,\n",
       "   'StorageClass': 'STANDARD',\n",
       "   'Owner': {'DisplayName': 'ewambembella',\n",
       "    'ID': '62be3582297aadeb353b684380316d2fa10ee13bd5c777428ccddbc30b6ecc70'}},\n",
       "  {'Key': '20230222/',\n",
       "   'LastModified': datetime.datetime(2023, 2, 23, 2, 9, 37, tzinfo=tzutc()),\n",
       "   'ETag': '\"d41d8cd98f00b204e9800998ecf8427e\"',\n",
       "   'Size': 0,\n",
       "   'StorageClass': 'STANDARD',\n",
       "   'Owner': {'DisplayName': 'ewambembella',\n",
       "    'ID': '62be3582297aadeb353b684380316d2fa10ee13bd5c777428ccddbc30b6ecc70'}},\n",
       "  {'Key': 'Achil Nembot cover letter.docx',\n",
       "   'LastModified': datetime.datetime(2023, 2, 23, 2, 8, 59, tzinfo=tzutc()),\n",
       "   'ETag': '\"48504fd22629ed1c73532a8fe2ec6656\"',\n",
       "   'Size': 27158,\n",
       "   'StorageClass': 'STANDARD',\n",
       "   'Owner': {'DisplayName': 'ewambembella',\n",
       "    'ID': '62be3582297aadeb353b684380316d2fa10ee13bd5c777428ccddbc30b6ecc70'}},\n",
       "  {'Key': 'Achil Nembot resume.docx',\n",
       "   'LastModified': datetime.datetime(2023, 2, 23, 2, 8, 59, tzinfo=tzutc()),\n",
       "   'ETag': '\"31c91da31fa8606678ce141f5f1135bd\"',\n",
       "   'Size': 29333,\n",
       "   'StorageClass': 'STANDARD',\n",
       "   'Owner': {'DisplayName': 'ewambembella',\n",
       "    'ID': '62be3582297aadeb353b684380316d2fa10ee13bd5c777428ccddbc30b6ecc70'}},\n",
       "  {'Key': 'Member Query Summary.pdf2019.pdf',\n",
       "   'LastModified': datetime.datetime(2023, 2, 23, 2, 9, tzinfo=tzutc()),\n",
       "   'ETag': '\"eae39801829ee662bc7ba0fae4cb9a45\"',\n",
       "   'Size': 226252,\n",
       "   'StorageClass': 'STANDARD',\n",
       "   'Owner': {'DisplayName': 'ewambembella',\n",
       "    'ID': '62be3582297aadeb353b684380316d2fa10ee13bd5c777428ccddbc30b6ecc70'}},\n",
       "  {'Key': 'Member Query Summary.pdf2020.pdf',\n",
       "   'LastModified': datetime.datetime(2023, 2, 23, 2, 9, 1, tzinfo=tzutc()),\n",
       "   'ETag': '\"faaac25f704b268e159d05516d988cfc\"',\n",
       "   'Size': 276902,\n",
       "   'StorageClass': 'STANDARD',\n",
       "   'Owner': {'DisplayName': 'ewambembella',\n",
       "    'ID': '62be3582297aadeb353b684380316d2fa10ee13bd5c777428ccddbc30b6ecc70'}},\n",
       "  {'Key': 'Member Query Summary.pdf2021.pdf',\n",
       "   'LastModified': datetime.datetime(2023, 2, 23, 2, 9, 1, tzinfo=tzutc()),\n",
       "   'ETag': '\"436e369d6c1d958e53a15a0c192e4e4c\"',\n",
       "   'Size': 237697,\n",
       "   'StorageClass': 'STANDARD',\n",
       "   'Owner': {'DisplayName': 'ewambembella',\n",
       "    'ID': '62be3582297aadeb353b684380316d2fa10ee13bd5c777428ccddbc30b6ecc70'}},\n",
       "  {'Key': 'mbd.yaml',\n",
       "   'LastModified': datetime.datetime(2023, 2, 23, 2, 9, tzinfo=tzutc()),\n",
       "   'ETag': '\"6eedc03a68a69933c763e674f2d7c42f\"',\n",
       "   'Size': 4,\n",
       "   'StorageClass': 'STANDARD',\n",
       "   'Owner': {'DisplayName': 'ewambembella',\n",
       "    'ID': '62be3582297aadeb353b684380316d2fa10ee13bd5c777428ccddbc30b6ecc70'}}],\n",
       " 'Name': 'mbella-organize-s3-objects',\n",
       " 'Prefix': '',\n",
       " 'MaxKeys': 1000,\n",
       " 'EncodingType': 'url'}"
      ]
     },
     "execution_count": 45,
     "metadata": {},
     "output_type": "execute_result"
    }
   ],
   "source": [
    "list_objects_response"
   ]
  },
  {
   "cell_type": "code",
   "execution_count": 46,
   "metadata": {},
   "outputs": [],
   "source": [
    "get_contents = list_objects_response.get(\"Contents\")"
   ]
  },
  {
   "cell_type": "code",
   "execution_count": 47,
   "metadata": {},
   "outputs": [
    {
     "data": {
      "text/plain": [
       "[{'Key': '20230220/',\n",
       "  'LastModified': datetime.datetime(2023, 2, 23, 1, 41, 38, tzinfo=tzutc()),\n",
       "  'ETag': '\"d41d8cd98f00b204e9800998ecf8427e\"',\n",
       "  'Size': 0,\n",
       "  'StorageClass': 'STANDARD',\n",
       "  'Owner': {'DisplayName': 'ewambembella',\n",
       "   'ID': '62be3582297aadeb353b684380316d2fa10ee13bd5c777428ccddbc30b6ecc70'}},\n",
       " {'Key': '20230220/Online Return Center bulb.pdf',\n",
       "  'LastModified': datetime.datetime(2023, 2, 23, 2, 6, 1, tzinfo=tzutc()),\n",
       "  'ETag': '\"60ce935cc62713561ef463ca7da79716\"',\n",
       "  'Size': 107839,\n",
       "  'StorageClass': 'STANDARD',\n",
       "  'Owner': {'DisplayName': 'ewambembella',\n",
       "   'ID': '62be3582297aadeb353b684380316d2fa10ee13bd5c777428ccddbc30b6ecc70'}},\n",
       " {'Key': '20230220/Online Return Center ram.pdf',\n",
       "  'LastModified': datetime.datetime(2023, 2, 23, 2, 6, 1, tzinfo=tzutc()),\n",
       "  'ETag': '\"7244f2dc7fcb4ed71b957056e6ae66a0\"',\n",
       "  'Size': 108113,\n",
       "  'StorageClass': 'STANDARD',\n",
       "  'Owner': {'DisplayName': 'ewambembella',\n",
       "   'ID': '62be3582297aadeb353b684380316d2fa10ee13bd5c777428ccddbc30b6ecc70'}},\n",
       " {'Key': '20230220/list of comands for docker aws.txt',\n",
       "  'LastModified': datetime.datetime(2023, 2, 23, 2, 6, 2, tzinfo=tzutc()),\n",
       "  'ETag': '\"331b998d612b9a0524b2cf367c87a457\"',\n",
       "  'Size': 1238,\n",
       "  'StorageClass': 'STANDARD',\n",
       "  'Owner': {'DisplayName': 'ewambembella',\n",
       "   'ID': '62be3582297aadeb353b684380316d2fa10ee13bd5c777428ccddbc30b6ecc70'}},\n",
       " {'Key': '20230222/',\n",
       "  'LastModified': datetime.datetime(2023, 2, 23, 2, 9, 37, tzinfo=tzutc()),\n",
       "  'ETag': '\"d41d8cd98f00b204e9800998ecf8427e\"',\n",
       "  'Size': 0,\n",
       "  'StorageClass': 'STANDARD',\n",
       "  'Owner': {'DisplayName': 'ewambembella',\n",
       "   'ID': '62be3582297aadeb353b684380316d2fa10ee13bd5c777428ccddbc30b6ecc70'}},\n",
       " {'Key': 'Achil Nembot cover letter.docx',\n",
       "  'LastModified': datetime.datetime(2023, 2, 23, 2, 8, 59, tzinfo=tzutc()),\n",
       "  'ETag': '\"48504fd22629ed1c73532a8fe2ec6656\"',\n",
       "  'Size': 27158,\n",
       "  'StorageClass': 'STANDARD',\n",
       "  'Owner': {'DisplayName': 'ewambembella',\n",
       "   'ID': '62be3582297aadeb353b684380316d2fa10ee13bd5c777428ccddbc30b6ecc70'}},\n",
       " {'Key': 'Achil Nembot resume.docx',\n",
       "  'LastModified': datetime.datetime(2023, 2, 23, 2, 8, 59, tzinfo=tzutc()),\n",
       "  'ETag': '\"31c91da31fa8606678ce141f5f1135bd\"',\n",
       "  'Size': 29333,\n",
       "  'StorageClass': 'STANDARD',\n",
       "  'Owner': {'DisplayName': 'ewambembella',\n",
       "   'ID': '62be3582297aadeb353b684380316d2fa10ee13bd5c777428ccddbc30b6ecc70'}},\n",
       " {'Key': 'Member Query Summary.pdf2019.pdf',\n",
       "  'LastModified': datetime.datetime(2023, 2, 23, 2, 9, tzinfo=tzutc()),\n",
       "  'ETag': '\"eae39801829ee662bc7ba0fae4cb9a45\"',\n",
       "  'Size': 226252,\n",
       "  'StorageClass': 'STANDARD',\n",
       "  'Owner': {'DisplayName': 'ewambembella',\n",
       "   'ID': '62be3582297aadeb353b684380316d2fa10ee13bd5c777428ccddbc30b6ecc70'}},\n",
       " {'Key': 'Member Query Summary.pdf2020.pdf',\n",
       "  'LastModified': datetime.datetime(2023, 2, 23, 2, 9, 1, tzinfo=tzutc()),\n",
       "  'ETag': '\"faaac25f704b268e159d05516d988cfc\"',\n",
       "  'Size': 276902,\n",
       "  'StorageClass': 'STANDARD',\n",
       "  'Owner': {'DisplayName': 'ewambembella',\n",
       "   'ID': '62be3582297aadeb353b684380316d2fa10ee13bd5c777428ccddbc30b6ecc70'}},\n",
       " {'Key': 'Member Query Summary.pdf2021.pdf',\n",
       "  'LastModified': datetime.datetime(2023, 2, 23, 2, 9, 1, tzinfo=tzutc()),\n",
       "  'ETag': '\"436e369d6c1d958e53a15a0c192e4e4c\"',\n",
       "  'Size': 237697,\n",
       "  'StorageClass': 'STANDARD',\n",
       "  'Owner': {'DisplayName': 'ewambembella',\n",
       "   'ID': '62be3582297aadeb353b684380316d2fa10ee13bd5c777428ccddbc30b6ecc70'}},\n",
       " {'Key': 'mbd.yaml',\n",
       "  'LastModified': datetime.datetime(2023, 2, 23, 2, 9, tzinfo=tzutc()),\n",
       "  'ETag': '\"6eedc03a68a69933c763e674f2d7c42f\"',\n",
       "  'Size': 4,\n",
       "  'StorageClass': 'STANDARD',\n",
       "  'Owner': {'DisplayName': 'ewambembella',\n",
       "   'ID': '62be3582297aadeb353b684380316d2fa10ee13bd5c777428ccddbc30b6ecc70'}}]"
      ]
     },
     "execution_count": 47,
     "metadata": {},
     "output_type": "execute_result"
    }
   ],
   "source": [
    "get_contents"
   ]
  },
  {
   "cell_type": "code",
   "execution_count": 48,
   "metadata": {},
   "outputs": [],
   "source": [
    "get_all_s3_objects_and_folder_names = []\n",
    "\n",
    "for item in get_contents:\n",
    "    s3_object_name = item.get(\"Key\")\n",
    "\n",
    "    get_all_s3_objects_and_folder_names.append(s3_object_name)"
   ]
  },
  {
   "cell_type": "code",
   "execution_count": 49,
   "metadata": {},
   "outputs": [
    {
     "data": {
      "text/plain": [
       "['20230220/',\n",
       " '20230220/Online Return Center bulb.pdf',\n",
       " '20230220/Online Return Center ram.pdf',\n",
       " '20230220/list of comands for docker aws.txt',\n",
       " '20230222/',\n",
       " 'Achil Nembot cover letter.docx',\n",
       " 'Achil Nembot resume.docx',\n",
       " 'Member Query Summary.pdf2019.pdf',\n",
       " 'Member Query Summary.pdf2020.pdf',\n",
       " 'Member Query Summary.pdf2021.pdf',\n",
       " 'mbd.yaml']"
      ]
     },
     "execution_count": 49,
     "metadata": {},
     "output_type": "execute_result"
    }
   ],
   "source": [
    "get_all_s3_objects_and_folder_names"
   ]
  },
  {
   "cell_type": "code",
   "execution_count": 50,
   "metadata": {},
   "outputs": [],
   "source": [
    "directory_name = todays_date + \"/\""
   ]
  },
  {
   "cell_type": "code",
   "execution_count": 51,
   "metadata": {},
   "outputs": [
    {
     "data": {
      "text/plain": [
       "'20230222/'"
      ]
     },
     "execution_count": 51,
     "metadata": {},
     "output_type": "execute_result"
    }
   ],
   "source": [
    "directory_name"
   ]
  },
  {
   "cell_type": "code",
   "execution_count": 52,
   "metadata": {},
   "outputs": [],
   "source": [
    "if directory_name not in get_all_s3_objects_and_folder_names:\n",
    "    s3_client.put_object(Bucket=bucket_name, Key=(directory_name))"
   ]
  },
  {
   "cell_type": "code",
   "execution_count": 53,
   "metadata": {},
   "outputs": [],
   "source": [
    "for item in get_contents:\n",
    "    object_creation_date = item.get(\"LastModified\").strftime(\"%Y%m%d\") +\"/\"\n",
    "    object_name = item.get(\"Key\")\n",
    "\n",
    "    if object_creation_date == directory_name and \"/\" not in object_name:\n",
    "        s3_client.copy_object(Bucket=bucket_name, CopySource=bucket_name+\"/\"+object_name, Key=directory_name+object_name)\n",
    "        s3_client.delete_object(Bucket=bucket_name, Key=object_name)"
   ]
  }
 ],
 "metadata": {
  "kernelspec": {
   "display_name": "Python 3",
   "language": "python",
   "name": "python3"
  },
  "language_info": {
   "codemirror_mode": {
    "name": "ipython",
    "version": 3
   },
   "file_extension": ".py",
   "mimetype": "text/x-python",
   "name": "python",
   "nbconvert_exporter": "python",
   "pygments_lexer": "ipython3",
   "version": "3.10.7"
  },
  "orig_nbformat": 4,
  "vscode": {
   "interpreter": {
    "hash": "19a286483d64a6aae213ee021b71c2469f389f06f0653ecb235b7ff21a1190d1"
   }
  }
 },
 "nbformat": 4,
 "nbformat_minor": 2
}
