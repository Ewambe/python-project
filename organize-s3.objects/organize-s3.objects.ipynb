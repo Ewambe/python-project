{
 "cells": [
  {
   "cell_type": "code",
   "execution_count": 19,
   "metadata": {},
   "outputs": [],
   "source": [
    "import boto3\n",
    "from datetime import datetime"
   ]
  },
  {
   "cell_type": "code",
   "execution_count": 20,
   "metadata": {},
   "outputs": [],
   "source": [
    "today = datetime.today()"
   ]
  },
  {
   "cell_type": "code",
   "execution_count": 21,
   "metadata": {},
   "outputs": [],
   "source": [
    "todays_date = today.strftime(\"%Y%m%d\")"
   ]
  },
  {
   "cell_type": "code",
   "execution_count": 22,
   "metadata": {},
   "outputs": [],
   "source": [
    "s3_client = boto3.client('s3')"
   ]
  },
  {
   "cell_type": "code",
   "execution_count": 23,
   "metadata": {},
   "outputs": [],
   "source": [
    "bucket_name = \"mbella-organize-s3-objects\""
   ]
  },
  {
   "cell_type": "code",
   "execution_count": 24,
   "metadata": {},
   "outputs": [],
   "source": [
    "list_objects_response = s3_client.list_objects(Bucket=bucket_name)"
   ]
  },
  {
   "cell_type": "code",
   "execution_count": 31,
   "metadata": {},
   "outputs": [],
   "source": [
    "get_contents = list_objects_response.get(\"Contents\")"
   ]
  },
  {
   "cell_type": "code",
   "execution_count": 32,
   "metadata": {},
   "outputs": [
    {
     "data": {
      "text/plain": [
       "[{'Key': '20230222/',\n",
       "  'LastModified': datetime.datetime(2023, 2, 23, 2, 44, 17, tzinfo=tzutc()),\n",
       "  'ETag': '\"d41d8cd98f00b204e9800998ecf8427e\"',\n",
       "  'Size': 0,\n",
       "  'StorageClass': 'STANDARD',\n",
       "  'Owner': {'DisplayName': 'ewambembella',\n",
       "   'ID': '62be3582297aadeb353b684380316d2fa10ee13bd5c777428ccddbc30b6ecc70'}},\n",
       " {'Key': 'Member Query Summary.pdf2019.pdf',\n",
       "  'LastModified': datetime.datetime(2023, 2, 23, 2, 43, 51, tzinfo=tzutc()),\n",
       "  'ETag': '\"eae39801829ee662bc7ba0fae4cb9a45\"',\n",
       "  'Size': 226252,\n",
       "  'StorageClass': 'STANDARD',\n",
       "  'Owner': {'DisplayName': 'ewambembella',\n",
       "   'ID': '62be3582297aadeb353b684380316d2fa10ee13bd5c777428ccddbc30b6ecc70'}},\n",
       " {'Key': 'Member Query Summary.pdf2020.pdf',\n",
       "  'LastModified': datetime.datetime(2023, 2, 23, 2, 43, 52, tzinfo=tzutc()),\n",
       "  'ETag': '\"faaac25f704b268e159d05516d988cfc\"',\n",
       "  'Size': 276902,\n",
       "  'StorageClass': 'STANDARD',\n",
       "  'Owner': {'DisplayName': 'ewambembella',\n",
       "   'ID': '62be3582297aadeb353b684380316d2fa10ee13bd5c777428ccddbc30b6ecc70'}},\n",
       " {'Key': 'Member Query Summary.pdf2021.pdf',\n",
       "  'LastModified': datetime.datetime(2023, 2, 23, 2, 43, 52, tzinfo=tzutc()),\n",
       "  'ETag': '\"436e369d6c1d958e53a15a0c192e4e4c\"',\n",
       "  'Size': 237697,\n",
       "  'StorageClass': 'STANDARD',\n",
       "  'Owner': {'DisplayName': 'ewambembella',\n",
       "   'ID': '62be3582297aadeb353b684380316d2fa10ee13bd5c777428ccddbc30b6ecc70'}}]"
      ]
     },
     "execution_count": 32,
     "metadata": {},
     "output_type": "execute_result"
    }
   ],
   "source": [
    "get_contents"
   ]
  },
  {
   "cell_type": "code",
   "execution_count": 26,
   "metadata": {},
   "outputs": [],
   "source": [
    "get_all_s3_objects_and_folder_names = []\n",
    "\n",
    "for item in get_contents:\n",
    "    s3_object_name = item.get(\"Key\")\n",
    "\n",
    "    get_all_s3_objects_and_folder_names.append(s3_object_name)"
   ]
  },
  {
   "cell_type": "code",
   "execution_count": 27,
   "metadata": {},
   "outputs": [],
   "source": [
    "directory_name = todays_date + \"/\""
   ]
  },
  {
   "cell_type": "code",
   "execution_count": 28,
   "metadata": {},
   "outputs": [],
   "source": [
    "if directory_name not in get_all_s3_objects_and_folder_names:\n",
    "    s3_client.put_object(Bucket=bucket_name, Key=(directory_name))"
   ]
  },
  {
   "cell_type": "code",
   "execution_count": 29,
   "metadata": {},
   "outputs": [],
   "source": [
    "for item in get_contents:\n",
    "    object_creation_date = item.get(\"LastModified\").strftime(\"%Y%m%d\") +\"/\"\n",
    "    object_name = item.get(\"Key\")\n",
    "\n",
    "    if object_creation_date == directory_name and \"/\" not in object_name:\n",
    "        s3_client.copy_object(Bucket=bucket_name, CopySource=bucket_name+\"/\"+object_name, Key=directory_name+object_name)\n",
    "        s3_client.delete_object(Bucket=bucket_name, Key=object_name)"
   ]
  }
 ],
 "metadata": {
  "kernelspec": {
   "display_name": "Python 3",
   "language": "python",
   "name": "python3"
  },
  "language_info": {
   "codemirror_mode": {
    "name": "ipython",
    "version": 3
   },
   "file_extension": ".py",
   "mimetype": "text/x-python",
   "name": "python",
   "nbconvert_exporter": "python",
   "pygments_lexer": "ipython3",
   "version": "3.10.7"
  },
  "orig_nbformat": 4,
  "vscode": {
   "interpreter": {
    "hash": "19a286483d64a6aae213ee021b71c2469f389f06f0653ecb235b7ff21a1190d1"
   }
  }
 },
 "nbformat": 4,
 "nbformat_minor": 2
}
